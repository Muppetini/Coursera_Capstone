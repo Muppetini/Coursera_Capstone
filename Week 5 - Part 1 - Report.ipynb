{
    "cells": [
        {
            "cell_type": "markdown",
            "metadata": {
                "collapsed": true
            },
            "source": "# Coursera Capstone - IBM Applied Data Science\n\n## Week 4 Assignment - Problem and data use description.\n\n## Where to open a new sports bar in New York\n\n### Introduction\n\nNew York is a massive city with many possibilities and business opportunities for those that know where to look. It is well known for it's financial market role and is host to many of the top multinational businesses. It is also well known throughout the world for its tourist attractions. Combining the effect from tourism and the jobs created by the US service sector in the are we are provided with a lot of footfall for all of the local businesses.\n\nHowever, in this case we are looking to open up a new local sports bar and therefore in this project we want to cater more to locals who are living or working in the area and will be supporting their local sports teams.\n\n### Business Problem\n\nNew York is a place of high competition and we need to find out firstly, if we think there is room for a sport bar and secondly where we think the best place to locate the new bar would be. We would want to find an area where there is a lower amount of bars in the area so that competition isn't as strong. However, we would also like to find an area that is close to one of the sporting arenas in New York as this could find a great market for those on their way to attend games and would be a good meeting place for local supporters to meet up before and after games.\n\nIt is thought that most people will only be willing to walk for around 17 minutes to reach a destination. Realistically that gives us an area of up to around 1.5km to work with when looking for a location. So the problem of finding the location for the bar is being contained to within 1.5km of each sporting arena.\n\n## Data\n\n### Data Required and Use\n\nWe will need to find the location of the sporting arenas within New York. Specifically we will need to find a list of bars around the venues to see the level of competition. Data relating to the coordinates of each of the bars so that we can plot them on a map.\n\nThe locations data sourcing will come via Foursquare API. This will be used to pinpoint the location of the arenas and the bars to enables us to show them on a map. Foursquare holds a massive database of venues not only in this area but around the world. It will be invaluable in helping to find the information required and making the final decision on placement.\n\nKmeans clustering will be used once we have a list of the bars in the area. This will give us a better understanding of how a the bars are grouped together around the main venues and will help us further our decision making process.\n\nFinally we will be plotting our findings using Folium. This is a great tool that is used for map visualization and will allow us to plot markers directly onto a map of New York and show our findings.\n\n"
        },
        {
            "cell_type": "markdown",
            "metadata": {},
            "source": "## Methodology\n\nThe business problem required data analysis of the venues that surrounded each of the sporting areas in question.\n\nThe following libraries were used to enable me to analyse the require data: pandas, numpy, geopy, folium, sklearn, requests and matplotlib. Pandas was used for data anaylsis and showing the information in a dataframe format. Numpy allows for the data to be used in a vectorised manner. Geopy gives the ability to convert addresses into latitude and longitude values. Folium is used for bringing up map images and showing markers on our points of interest.\n\nI started by setting up the variables that would be used by Foursquare to acquire the data I was after. This included the search query, the radius and the limit. The search query was set to find 'Bars' in the area. The radius was set to 1500 metres; this is because the maximum walking distance desired was 1.5km and therefore we are only interested in Bars that would fall within this range. The limit was set to 100 so that we would only get a maximum of 100 returned results.\n\nI then used a geolocator to find the coordinates for Madison Square Garden. I used the coordinates found to set up variables for both the latitude and longitude. These variable were then used along with the other variable previously set up to make a url for Foursquare that requested the wanted information whilst supplying Foursquare with the information it required to make it happen. Finally for this part, I set up the results variable to retrieve the results from the url variable in a json file.\n\nThe returned results were checked to verify that it had returned the information that I was after. I then put the information into a dataframe and tidied up into a more presentable format. The top 5 results were shown in the new dataframe format to confirm validity.\n\nI then repeated the process above but this time for Yankee Stadium rather than Madison Square Garden. These results were put into their own dataframe with the references be differentiated by a 'ys_' for Yankee Stadium.\n\nA map was then generated showing the distribution of bars around each of the two venues (Yankee Stadium & Madison Square Garden).\n\nHaving found that Yankee Stadium was the more suitable location I decided to use SKlearn to put the bars surrounding Yankee Stadium into clusters. Madison Square Garden was dropped as a possibility due to the tight clustering of bars around the venue.\n\nThe different clusters were then plotted onto a new map using folium with each cluster being allocated its own colour for clarity."
        },
        {
            "cell_type": "markdown",
            "metadata": {},
            "source": "## Results\n\nThere are two sets of results to look at. The first set of results is for the initial comparison between the possible locations of Madison Square Garden and Yankee Stadium. The map was produced to find if there was an obvious preference for where there would be space for a new bar. The map clearly showed that the clustering of the bars around Madison Square Garden was a lot more compact and left little room for a new bar to enter the market. However, the distribution of bars around Yankee Stadium was a lot more dispersed and showed promise for finding a set up site.\n\nThe findings of the first map led us onto clustering the results for Yankee Stadium and producing the second map. The results of the second map brought up a clearer picture. The purple marker showed that there were a few bars in very close proximity to the Yankee Stadium and so it would not be such a good option to set up very close to the stadium. However, the red markers show a gap in the distribution of the bars on the east side of the stadium."
        },
        {
            "cell_type": "markdown",
            "metadata": {},
            "source": "## Discussion\n\nThe results show that Yankee Stadium is the better of the two options and that the Madison Square Garden area should be avoided due to over saturation.\n\nThe area on the east side of the Yankee Stadium looks as though it would be a good place to set up the new sports bar as there is less competition compare to the other areas surrounding the stadium.\n\nThe area to the south of Yankee Stadium has a particularly tight cluster of bars and should be avoided when looking for a new site."
        },
        {
            "cell_type": "markdown",
            "metadata": {},
            "source": "## Conclusion\n\nThere is a possibility of setting up a new sports bar on the west side of the Yankee Stadium but the much better option would be to look for a location on the east side of the stadium. A good locaton would be somewhere between East 161 Street and East 168 Street and within 1km of the stadium as there is a lack of competition in the area."
        },
        {
            "cell_type": "code",
            "execution_count": null,
            "metadata": {},
            "outputs": [],
            "source": ""
        }
    ],
    "metadata": {
        "kernelspec": {
            "display_name": "Python 3.6",
            "language": "python",
            "name": "python3"
        },
        "language_info": {
            "codemirror_mode": {
                "name": "ipython",
                "version": 3
            },
            "file_extension": ".py",
            "mimetype": "text/x-python",
            "name": "python",
            "nbconvert_exporter": "python",
            "pygments_lexer": "ipython3",
            "version": "3.6.9"
        }
    },
    "nbformat": 4,
    "nbformat_minor": 1
}