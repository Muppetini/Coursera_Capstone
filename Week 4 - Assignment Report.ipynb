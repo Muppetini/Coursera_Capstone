{
    "cells": [
        {
            "cell_type": "markdown",
            "metadata": {
                "collapsed": true
            },
            "source": "# Coursera Capstone - IBM Applied Data Science"
        },
        {
            "cell_type": "markdown",
            "metadata": {},
            "source": "## Week 4 Assignment - Problem and data use description."
        },
        {
            "cell_type": "markdown",
            "metadata": {},
            "source": "## Where to open a new sports bar in New York"
        },
        {
            "cell_type": "markdown",
            "metadata": {},
            "source": "### Introduction\n\nNew York is a massive city with many possibilities and business opportunities for those that know where to look. It is well known for it's financial market role and is host to many of the top multinational businesses. It is also well known throughout the world for its tourist attractions. Combining the effect from tourism and the jobs created by the US service sector in the are we are provided with a lot of footfall for all of the local businesses. \n\nHowever, in this case we are looking to open up a new local sports bar and therefore in this project we want to cater more to locals who are living or working in the area and will be supporting their local sports teams."
        },
        {
            "cell_type": "markdown",
            "metadata": {},
            "source": "### Business Problem\n\nNew York is a place of high competition and we need to find out firstly, if we think there is room for a sport bar and secondly where we think the best place to locate the new bar would be. We would want to find an area where there is a lower amount of bars in the area so that competition isn't as strong. However, we would also like to find an area that is close to one of the sporting arenas in New York as this could find a great market for those on their way to attend games and would be a good meeting place for local supporters to meet up before and after games.\n\nIt is thought that most people will only be willing to walk for around 17 minutes to reach a destination. Realistically that gives us an area of up to around 1.5km to work with when looking for a location. So the problem of finding the location for the bar is being contained to within 1.5km of each sporting arena."
        },
        {
            "cell_type": "markdown",
            "metadata": {},
            "source": "# Data"
        },
        {
            "cell_type": "markdown",
            "metadata": {},
            "source": "### Data Required and Use\n\nWe will need to find the location of the sporting arenas within New York.\nSpecifically we will need to find a list of bars around the venues to see the level of competition.\nData relating to the coordinates of each of the bars so that we can plot them on a map.\n\nThe locations data sourcing will come via Foursquare API. This will be used to pinpoint the location of the arenas and the bars to enables us to show them on a map.\nFoursquare holds a massive database of venues not only in this area but around the world. It will be invaluable in helping to find the information required and making the final decision on placement.\n\nKmeans clustering will be used once we have a list of the bars in the area. This will give us a better understanding of how a the bars are grouped together around the main venues and will help us further our decision making process.\n\nFinally we will be plotting our findings using Folium. This is a great tool that is used for map visualization and will allow us to plot markers directly onto a map of New York and show our findings."
        },
        {
            "cell_type": "code",
            "execution_count": null,
            "metadata": {},
            "outputs": [],
            "source": ""
        }
    ],
    "metadata": {
        "kernelspec": {
            "display_name": "Python 3.6",
            "language": "python",
            "name": "python3"
        },
        "language_info": {
            "codemirror_mode": {
                "name": "ipython",
                "version": 3
            },
            "file_extension": ".py",
            "mimetype": "text/x-python",
            "name": "python",
            "nbconvert_exporter": "python",
            "pygments_lexer": "ipython3",
            "version": "3.6.9"
        }
    },
    "nbformat": 4,
    "nbformat_minor": 1
}